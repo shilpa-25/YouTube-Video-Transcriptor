{
 "cells": [
  {
   "cell_type": "code",
   "execution_count": 1,
   "id": "d7cfd97f-cf86-4b7d-8af7-39d570f45a98",
   "metadata": {},
   "outputs": [
    {
     "name": "stdout",
     "output_type": "stream",
     "text": [
      "Requirement already satisfied: youtube_transcript_api in c:\\users\\shilpa bhure\\anaconda3\\lib\\site-packages (0.4.4)\n",
      "Requirement already satisfied: requests in c:\\users\\shilpa bhure\\anaconda3\\lib\\site-packages (from youtube_transcript_api) (2.27.1)\n",
      "Requirement already satisfied: certifi>=2017.4.17 in c:\\users\\shilpa bhure\\anaconda3\\lib\\site-packages (from requests->youtube_transcript_api) (2021.10.8)\n",
      "Requirement already satisfied: charset-normalizer~=2.0.0 in c:\\users\\shilpa bhure\\anaconda3\\lib\\site-packages (from requests->youtube_transcript_api) (2.0.4)\n",
      "Requirement already satisfied: idna<4,>=2.5 in c:\\users\\shilpa bhure\\anaconda3\\lib\\site-packages (from requests->youtube_transcript_api) (3.3)\n",
      "Requirement already satisfied: urllib3<1.27,>=1.21.1 in c:\\users\\shilpa bhure\\anaconda3\\lib\\site-packages (from requests->youtube_transcript_api) (1.26.9)\n",
      "Note: you may need to restart the kernel to use updated packages.\n"
     ]
    }
   ],
   "source": [
    "%pip install youtube_transcript_api\n",
    "from youtube_transcript_api import YouTubeTranscriptApi as yta"
   ]
  },
  {
   "cell_type": "code",
   "execution_count": 2,
   "id": "5d747a8c-f179-4f77-bd2a-e7d53bd386b3",
   "metadata": {},
   "outputs": [
    {
     "name": "stdout",
     "output_type": "stream",
     "text": [
      "Collecting transformers\n",
      "  Downloading transformers-4.20.1-py3-none-any.whl (4.4 MB)\n",
      "Collecting torch\n",
      "  Downloading torch-1.11.0-cp39-cp39-win_amd64.whl (157.9 MB)\n",
      "Collecting sentencepiece\n",
      "  Downloading sentencepiece-0.1.96-cp39-cp39-win_amd64.whl (1.1 MB)\n",
      "Requirement already satisfied: packaging>=20.0 in c:\\users\\shilpa bhure\\anaconda3\\lib\\site-packages (from transformers) (21.3)\n",
      "Requirement already satisfied: pyyaml>=5.1 in c:\\users\\shilpa bhure\\anaconda3\\lib\\site-packages (from transformers) (6.0)\n",
      "Requirement already satisfied: tqdm>=4.27 in c:\\users\\shilpa bhure\\anaconda3\\lib\\site-packages (from transformers) (4.64.0)\n",
      "Collecting huggingface-hub<1.0,>=0.1.0\n",
      "  Downloading huggingface_hub-0.8.1-py3-none-any.whl (101 kB)\n",
      "Collecting tokenizers!=0.11.3,<0.13,>=0.11.1\n",
      "  Downloading tokenizers-0.12.1-cp39-cp39-win_amd64.whl (3.3 MB)\n",
      "Requirement already satisfied: filelock in c:\\users\\shilpa bhure\\anaconda3\\lib\\site-packages (from transformers) (3.6.0)\n",
      "Requirement already satisfied: requests in c:\\users\\shilpa bhure\\anaconda3\\lib\\site-packages (from transformers) (2.27.1)\n",
      "Requirement already satisfied: numpy>=1.17 in c:\\users\\shilpa bhure\\anaconda3\\lib\\site-packages (from transformers) (1.21.5)\n",
      "Requirement already satisfied: regex!=2019.12.17 in c:\\users\\shilpa bhure\\anaconda3\\lib\\site-packages (from transformers) (2022.3.15)\n",
      "Requirement already satisfied: typing-extensions in c:\\users\\shilpa bhure\\anaconda3\\lib\\site-packages (from torch) (4.1.1)\n",
      "Requirement already satisfied: pyparsing!=3.0.5,>=2.0.2 in c:\\users\\shilpa bhure\\anaconda3\\lib\\site-packages (from packaging>=20.0->transformers) (3.0.4)\n",
      "Requirement already satisfied: colorama in c:\\users\\shilpa bhure\\anaconda3\\lib\\site-packages (from tqdm>=4.27->transformers) (0.4.4)\n",
      "Requirement already satisfied: certifi>=2017.4.17 in c:\\users\\shilpa bhure\\anaconda3\\lib\\site-packages (from requests->transformers) (2021.10.8)\n",
      "Requirement already satisfied: charset-normalizer~=2.0.0 in c:\\users\\shilpa bhure\\anaconda3\\lib\\site-packages (from requests->transformers) (2.0.4)\n",
      "Requirement already satisfied: idna<4,>=2.5 in c:\\users\\shilpa bhure\\anaconda3\\lib\\site-packages (from requests->transformers) (3.3)\n",
      "Requirement already satisfied: urllib3<1.27,>=1.21.1 in c:\\users\\shilpa bhure\\anaconda3\\lib\\site-packages (from requests->transformers) (1.26.9)\n",
      "Installing collected packages: tokenizers, huggingface-hub, transformers, torch, sentencepiece\n",
      "Successfully installed huggingface-hub-0.8.1 sentencepiece-0.1.96 tokenizers-0.12.1 torch-1.11.0 transformers-4.20.1\n",
      "Note: you may need to restart the kernel to use updated packages.\n"
     ]
    }
   ],
   "source": [
    "%pip install transformers torch sentencepiece"
   ]
  },
  {
   "cell_type": "code",
   "execution_count": 3,
   "id": "5a0184d5-4ec0-4a46-9a19-fd205b23037f",
   "metadata": {},
   "outputs": [
    {
     "name": "stderr",
     "output_type": "stream",
     "text": [
      "No model was supplied, defaulted to sshleifer/distilbart-cnn-12-6 (https://huggingface.co/sshleifer/distilbart-cnn-12-6)\n"
     ]
    }
   ],
   "source": [
    "from transformers import pipeline\n",
    "\n",
    "# using pipeline API for summarization task\n",
    "summarization = pipeline(\"summarization\")"
   ]
  },
  {
   "cell_type": "code",
   "execution_count": null,
   "id": "a5debdac-fd35-434e-9f75-20d3a5497f52",
   "metadata": {},
   "outputs": [
    {
     "name": "stdout",
     "output_type": "stream",
     "text": [
      "Please Enter the link to the YouTube Video\n"
     ]
    }
   ],
   "source": [
    "print('Please Enter the link to the YouTube Video')\n",
    "link = input()"
   ]
  },
  {
   "cell_type": "code",
   "execution_count": null,
   "id": "d3d2fbb8-56be-4e91-a54f-e1544a16b5cf",
   "metadata": {},
   "outputs": [],
   "source": [
    "a=link.find('=')\n",
    "b=link.find('&')\n",
    "c=link[a+1:b]\n",
    "\n",
    "vid_id = c\n",
    "data=yta.get_transcript(vid_id)\n",
    "\n",
    "transcript=''\n",
    "for value in data:\n",
    "    for key,val in value.items():\n",
    "        if key=='text':\n",
    "            transcript+=val + \" \"\n",
    "\n",
    "l1=transcript.splitlines()\n",
    "global final_tra1\n",
    "final_tra1=\" \".join(l1)"
   ]
  },
  {
   "cell_type": "code",
   "execution_count": null,
   "id": "14d63cf7-aad3-4bbe-ae1d-e7a7525d583a",
   "metadata": {},
   "outputs": [],
   "source": [
    "final_tra1"
   ]
  },
  {
   "cell_type": "code",
   "execution_count": null,
   "id": "f378fe59-97ba-4682-8e33-f753f11f7878",
   "metadata": {},
   "outputs": [],
   "source": [
    "original_text = final_tra1\n",
    "summary_text = summarization(original_text)[0]['summary_text']\n",
    "print(\"Summary:\", summary_text)"
   ]
  },
  {
   "cell_type": "code",
   "execution_count": null,
   "id": "4592c382-3ef1-4936-8b95-3c5d4edc12f5",
   "metadata": {},
   "outputs": [],
   "source": [
    "with open(\"summary.txt\", \"w\") as text_file:\n",
    "    text_file.write(summary_text)"
   ]
  },
  {
   "cell_type": "code",
   "execution_count": null,
   "id": "708747bd-82c5-40d8-b6bc-5d878570cd34",
   "metadata": {},
   "outputs": [],
   "source": [
    "summary_text"
   ]
  },
  {
   "cell_type": "code",
   "execution_count": null,
   "id": "5be4ec66-ff40-4550-ab2d-1d318fc0a28d",
   "metadata": {},
   "outputs": [],
   "source": []
  }
 ],
 "metadata": {
  "kernelspec": {
   "display_name": "Python 3 (ipykernel)",
   "language": "python",
   "name": "python3"
  },
  "language_info": {
   "codemirror_mode": {
    "name": "ipython",
    "version": 3
   },
   "file_extension": ".py",
   "mimetype": "text/x-python",
   "name": "python",
   "nbconvert_exporter": "python",
   "pygments_lexer": "ipython3",
   "version": "3.9.12"
  }
 },
 "nbformat": 4,
 "nbformat_minor": 5
}
